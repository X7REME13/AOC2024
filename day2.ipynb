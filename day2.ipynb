{
 "cells": [
  {
   "cell_type": "markdown",
   "metadata": {},
   "source": [
    "# Day 2 - Part 1\n",
    "https://adventofcode.com/2024/day/2"
   ]
  },
  {
   "cell_type": "code",
   "execution_count": 7,
   "metadata": {},
   "outputs": [],
   "source": [
    "data = open(\"./inputs/day2.txt\").read().splitlines()"
   ]
  },
  {
   "cell_type": "code",
   "execution_count": null,
   "metadata": {},
   "outputs": [],
   "source": [
    "reports = [list(map(int, x.split())) for x in data]\n"
   ]
  },
  {
   "cell_type": "code",
   "execution_count": 31,
   "metadata": {},
   "outputs": [
    {
     "name": "stdout",
     "output_type": "stream",
     "text": [
      "490\n"
     ]
    }
   ],
   "source": [
    "reportsSafe = len(reports)\n",
    "for report in reports:\n",
    "    isIncreasing = report[0] < report[1]\n",
    "\n",
    "    for i in range(len(report)-1):\n",
    "        if abs(report[i] - report[i+1]) <= 3:\n",
    "            pass\n",
    "        else:\n",
    "            reportsSafe -= 1\n",
    "            break\n",
    "\n",
    "        if isIncreasing and report[i] < report[i+1]:\n",
    "            pass\n",
    "        elif not isIncreasing and report[i] > report[i+1]:\n",
    "            pass\n",
    "        else:\n",
    "            reportsSafe -= 1\n",
    "            break\n",
    "\n",
    "print(reportsSafe)"
   ]
  },
  {
   "cell_type": "markdown",
   "metadata": {},
   "source": [
    "# Day 2 - Part 2\n",
    "https://adventofcode.com/2024/day/2#part2"
   ]
  },
  {
   "cell_type": "markdown",
   "metadata": {},
   "source": [
    "TODO: Implementar divide and conquer"
   ]
  },
  {
   "cell_type": "code",
   "execution_count": 44,
   "metadata": {},
   "outputs": [
    {
     "name": "stdout",
     "output_type": "stream",
     "text": [
      "495\n"
     ]
    }
   ],
   "source": [
    "reportsSafeWithDampener = len(reports)\n",
    "for report in reports:\n",
    "    isIncreasing = report[0] < report[1]\n",
    "    isTolerancePassed = False\n",
    "\n",
    "    for i in range(len(report)-1):\n",
    "        if abs(report[i] - report[i+1]) <= 3:\n",
    "            pass\n",
    "        elif not isTolerancePassed:\n",
    "            isTolerancePassed = True\n",
    "            if i == 0 or i == len(report)-2:\n",
    "                reportsSafeWithDampener -= 1\n",
    "                break\n",
    "            elif abs(report[i-1] - report[i+1]) <= 3:\n",
    "                pass\n",
    "            else:\n",
    "                reportsSafeWithDampener -= 1\n",
    "                break    \n",
    "        else:\n",
    "            reportsSafeWithDampener -= 1\n",
    "            break\n",
    "\n",
    "        if isIncreasing and report[i] < report[i+1]:\n",
    "            pass\n",
    "        elif not isIncreasing and report[i] > report[i+1]:\n",
    "            pass\n",
    "        elif not isTolerancePassed:\n",
    "            isTolerancePassed = True\n",
    "            if i == 0 or i == len(report)-2:\n",
    "                reportsSafeWithDampener -= 1\n",
    "                break\n",
    "            elif isIncreasing and report[i-1] < report[i+1]:\n",
    "                pass\n",
    "            elif not isIncreasing and report[i-1] > report[i+1]:\n",
    "                pass\n",
    "            else:\n",
    "                reportsSafeWithDampener -= 1\n",
    "                break\n",
    "        else:\n",
    "            reportsSafeWithDampener -= 1\n",
    "            break\n",
    "    \n",
    "    # print(report, isTolerancePassed, reportsSafeWithDampener)\n",
    "    \n",
    "\n",
    "print(reportsSafeWithDampener)"
   ]
  }
 ],
 "metadata": {
  "kernelspec": {
   "display_name": "Python 3",
   "language": "python",
   "name": "python3"
  },
  "language_info": {
   "codemirror_mode": {
    "name": "ipython",
    "version": 3
   },
   "file_extension": ".py",
   "mimetype": "text/x-python",
   "name": "python",
   "nbconvert_exporter": "python",
   "pygments_lexer": "ipython3",
   "version": "3.12.7"
  }
 },
 "nbformat": 4,
 "nbformat_minor": 2
}
