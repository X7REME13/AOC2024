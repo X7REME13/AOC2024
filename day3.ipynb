{
 "cells": [
  {
   "cell_type": "markdown",
   "metadata": {},
   "source": [
    "# Day 3 - Part 1\n",
    "https://adventofcode.com/2024/day/3"
   ]
  },
  {
   "cell_type": "code",
   "execution_count": 1,
   "metadata": {},
   "outputs": [],
   "source": [
    "import re\n",
    "data = open(\"./inputs/day3.txt\").read()"
   ]
  },
  {
   "cell_type": "code",
   "execution_count": 2,
   "metadata": {},
   "outputs": [],
   "source": [
    "groups = re.findall(r\"mul\\((\\d+),(\\d+)\\)\", data)"
   ]
  },
  {
   "cell_type": "code",
   "execution_count": 3,
   "metadata": {},
   "outputs": [
    {
     "name": "stdout",
     "output_type": "stream",
     "text": [
      "192767529\n"
     ]
    }
   ],
   "source": [
    "sumResponse = 0\n",
    "for mul in groups:\n",
    "    sumResponse += int(mul[0]) * int(mul[1])\n",
    "\n",
    "print(sumResponse)"
   ]
  },
  {
   "cell_type": "markdown",
   "metadata": {},
   "source": [
    "# Day 3 - Part 2\n",
    "https://adventofcode.com/2024/day/3#part2"
   ]
  },
  {
   "cell_type": "code",
   "execution_count": 4,
   "metadata": {},
   "outputs": [
    {
     "name": "stdout",
     "output_type": "stream",
     "text": [
      "104083373\n"
     ]
    }
   ],
   "source": [
    "groups = re.finditer(r\"do\\(\\)|don't\\(\\)|mul\\((\\d+),(\\d+)\\)\", data)\n",
    "\n",
    "sumResponseCorrupted = 0\n",
    "findDo = True\n",
    "for group in groups:\n",
    "    # print(group.group())\n",
    "    if group.group() == \"do()\":\n",
    "        findDo = True\n",
    "    elif group.group() == \"don't()\":\n",
    "        findDo = False\n",
    "    else:\n",
    "        if findDo:\n",
    "            mul = re.findall(r\"mul\\((\\d+),(\\d+)\\)\", group.group())[0]\n",
    "            sumResponseCorrupted += int(mul[0]) * int(mul[1])\n",
    "\n",
    "print(sumResponseCorrupted)"
   ]
  }
 ],
 "metadata": {
  "kernelspec": {
   "display_name": "Python 3",
   "language": "python",
   "name": "python3"
  },
  "language_info": {
   "codemirror_mode": {
    "name": "ipython",
    "version": 3
   },
   "file_extension": ".py",
   "mimetype": "text/x-python",
   "name": "python",
   "nbconvert_exporter": "python",
   "pygments_lexer": "ipython3",
   "version": "3.12.7"
  }
 },
 "nbformat": 4,
 "nbformat_minor": 2
}
